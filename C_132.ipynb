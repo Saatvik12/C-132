{
  "nbformat": 4,
  "nbformat_minor": 0,
  "metadata": {
    "colab": {
      "name": "C-132",
      "provenance": [],
      "collapsed_sections": [],
      "authorship_tag": "ABX9TyOWcuyGY9yf/WDUNJfNVUAg",
      "include_colab_link": true
    },
    "kernelspec": {
      "name": "python3",
      "display_name": "Python 3"
    },
    "language_info": {
      "name": "python"
    }
  },
  "cells": [
    {
      "cell_type": "markdown",
      "metadata": {
        "id": "view-in-github",
        "colab_type": "text"
      },
      "source": [
        "<a href=\"https://colab.research.google.com/github/Saatvik12/C-132/blob/main/C_132.ipynb\" target=\"_parent\"><img src=\"https://colab.research.google.com/assets/colab-badge.svg\" alt=\"Open In Colab\"/></a>"
      ]
    },
    {
      "cell_type": "code",
      "execution_count": 1,
      "metadata": {
        "colab": {
          "resources": {
            "http://localhost:8080/nbextensions/google.colab/files.js": {
              "data": "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",
              "ok": true,
              "headers": [
                [
                  "content-type",
                  "application/javascript"
                ]
              ],
              "status": 200,
              "status_text": ""
            }
          },
          "base_uri": "https://localhost:8080/",
          "height": 73
        },
        "id": "QexxViN03siP",
        "outputId": "79b1b407-6e7d-4bcc-bd41-1bcfb074f025"
      },
      "outputs": [
        {
          "output_type": "display_data",
          "data": {
            "text/plain": [
              "<IPython.core.display.HTML object>"
            ],
            "text/html": [
              "\n",
              "     <input type=\"file\" id=\"files-f09484f6-051a-4786-9178-b3559dd16b99\" name=\"files[]\" multiple disabled\n",
              "        style=\"border:none\" />\n",
              "     <output id=\"result-f09484f6-051a-4786-9178-b3559dd16b99\">\n",
              "      Upload widget is only available when the cell has been executed in the\n",
              "      current browser session. Please rerun this cell to enable.\n",
              "      </output>\n",
              "      <script src=\"/nbextensions/google.colab/files.js\"></script> "
            ]
          },
          "metadata": {}
        },
        {
          "output_type": "stream",
          "name": "stdout",
          "text": [
            "Saving main.csv to main.csv\n"
          ]
        }
      ],
      "source": [
        "from google.colab import files\n",
        "f = files.upload()"
      ]
    },
    {
      "cell_type": "code",
      "source": [
        "import csv\n",
        "from sklearn.cluster import KMeans\n",
        "import matplotlib.pyplot as plt\n",
        "import seaborn as sns \n",
        "\n",
        "rows=[]\n",
        "with open('main.csv','r') as f:\n",
        "  csvreader = csv.reader(f)\n",
        "  for row in csvreader:\n",
        "    rows.append(row)\n",
        "headers = rows[0]\n",
        "planet_data_rows  = rows[1:]\n",
        "#print(planet_data_rows[0])\n",
        "#print(headers)\n",
        "headers[0]='row_num'\n",
        "#print(headers)\n",
        "solar_system_planet_count={}\n",
        "for planet_data in planet_data_rows:\n",
        "  if solar_system_planet_count.get(planet_data[11]):\n",
        "    solar_system_planet_count[planet_data[11]] += 1\n",
        "  else:\n",
        "    solar_system_planet_count[planet_data[11]] = 1\n",
        "\n",
        "max_solar_system = max(solar_system_planet_count, key=solar_system_planet_count.get)\n",
        "#print(\"Solar system {} has maximum planets {} out of all the solar systems we have discovered so far!\".format(max_solar_system, solar_system_planet_count[max_solar_system]))\n",
        "temp_planet_data_rows = list(planet_data_rows)\n",
        "for planet_data in temp_planet_data_rows:\n",
        "  planet_mass = planet_data[3]\n",
        "  if planet_mass.lower() == \"unknown\":\n",
        "    planet_data_rows.remove(planet_data)\n",
        "    continue\n",
        "  else:\n",
        "    planet_mass_value = planet_mass.split(\" \")[0]\n",
        "    planet_mass_ref = planet_mass.split(\" \")[1]\n",
        "    if planet_mass_ref == \"Jupiters\":\n",
        "      planet_mass_value = float(planet_mass_value) * 317.8\n",
        "    planet_data[3] = planet_mass_value\n",
        "\n",
        "  planet_radius = planet_data[7]\n",
        "  if planet_radius.lower() == \"unknown\":\n",
        "    planet_data_rows.remove(planet_data)\n",
        "    continue\n",
        "  else:\n",
        "    planet_radius_value = planet_radius.split(\" \")[0]\n",
        "    planet_radius_ref = planet_radius.split(\" \")[2]\n",
        "    if planet_radius_ref == \"Jupiter\":\n",
        "      planet_radius_value = float(planet_radius_value) * 11.2\n",
        "    planet_data[7] = planet_radius_value\n",
        "\n",
        "#print(len(planet_data_rows))\n",
        "\n",
        "hd_10180_planets = []\n",
        "for planet_data in planet_data_rows:\n",
        "  if max_solar_system == planet_data[11]:\n",
        "    hd_10180_planets.append(planet_data)\n",
        "\n",
        "#print(len(hd_10180_planets))\n",
        "#print(hd_10180_planets)\n",
        "\n",
        "import plotly.express as px\n",
        "\n",
        "hd_10180_planet_masses = []\n",
        "hd_10180_planet_names = []\n",
        "for planet_data in hd_10180_planets:\n",
        "  hd_10180_planet_masses.append(planet_data[3])\n",
        "  hd_10180_planet_names.append(planet_data[1])\n",
        "\n",
        "hd_10180_planet_masses.append(1)\n",
        "hd_10180_planet_names.append(\"Earth\")\n",
        "\n",
        "#fig = px.bar(x=hd_10180_planet_names, y=hd_10180_planet_masses)\n",
        "#fig.show()\n",
        "\n",
        "temp_planet_data_rows = list(planet_data_rows)\n",
        "for planet_data in temp_planet_data_rows:\n",
        "  if planet_data[1].lower() == \"hd 100546 b\":\n",
        "    planet_data_rows.remove(planet_data)\n",
        "\n",
        "planet_masses = []\n",
        "planet_radiuses = []\n",
        "planet_names = []\n",
        "for planet_data in planet_data_rows:\n",
        "  planet_masses.append(planet_data[3])\n",
        "  planet_radiuses.append(planet_data[7])\n",
        "  planet_names.append(planet_data[1])\n",
        "planet_gravity = []\n",
        "for index, name in enumerate(planet_names):\n",
        "  gravity = (float(planet_masses[index])*5.972e+24) / (float(planet_radiuses[index])*float(planet_radiuses[index])*6371000*6371000) * 6.674e-11\n",
        "  planet_gravity.append(gravity)\n",
        "\n",
        "#fig = px.scatter(x=planet_radiuses, y=planet_masses, size=planet_gravity, hover_data=[planet_names])\n",
        "#fig.show()\n",
        "low_gravity_planets = []\n",
        "for index, gravity in enumerate(planet_gravity):\n",
        "  if gravity < 10:\n",
        "    low_gravity_planets.append(planet_data_rows[index])\n",
        "\n",
        "#print(len(low_gravity_planets))\n",
        "low_gravity_planet = []\n",
        "for index, gravity in enumerate(planet_gravity):\n",
        "  if gravity < 100:\n",
        "    low_gravity_planet.append(planet_data_rows[index])\n",
        "\n",
        "#print(len(low_gravity_planet))\n",
        "planet_type_values=[]\n",
        "for planet_data in planet_data_rows:\n",
        "  planet_type_values.append(planet_data[6])\n",
        "#print(list(set(planet_type_values)))\n",
        "\n",
        "X = []\n",
        "for index, mass in enumerate(planet_masses):\n",
        "  temp_list = [planet_radiuses[index],mass]\n",
        "  X.append(temp_list)\n",
        "wcss = []\n",
        "for i in range(1,11):\n",
        "  kmeans = KMeans(n_clusters=i,init='k-means++',random_state=42)\n",
        "  kmeans.fit(X)\n",
        "  wcss.append(kmeans.inertia_)\n",
        "#plt.figure(figsize=(10,5))\n",
        "#sns.lineplot(range(1,11),wcss,marker='o',color='red')\n",
        "#plt.title('The Elbow Method')\n",
        "#plt.xlabel('Number Of Clusters')\n",
        "#plt.ylabel('WCSS')\n",
        "#plt.show()\n",
        "\n",
        "\n",
        "planet_masses = []\n",
        "planet_radiuses = []\n",
        "planet_types = []\n",
        "for planet_data in low_gravity_planets:\n",
        "  planet_masses.append(planet_data[3])\n",
        "  planet_radiuses.append(planet_data[7])\n",
        "  planet_types.append(planet_data[6])\n",
        "\n",
        "fig = px.scatter(x=planet_radiuses, y=planet_masses, color=planet_types)\n",
        "#fig.show()\n",
        "suitable_planets = []\n",
        "for planet_data in low_gravity_planets:\n",
        "  if(planet_data[6].lower()=='terrestrial' or planet_data[6].lower()=='Super Earth'):\n",
        "    suitable_planets.append(planet_data)\n",
        "#print(len(suitable_planets))\n",
        "#print(headers)\n",
        "temp_suitable_planets = list(suitable_planets)\n",
        "for planet_data in temp_suitable_planets:\n",
        "  if planet_data[8].lower()=='uknown':\n",
        "    suitable_planets.remove(planet_data)\n",
        "for planet_data in temp_suitable_planets:\n",
        "  if planet_data[9].split()[1].lower()=='days':\n",
        "    planet_data[9]==float(planet_data[9].split()[0])\n",
        "  else:\n",
        "    planet_data[9]==float(planet_data[9].split()[0])*365\n",
        "  planet_data[8]==planet_data[8].split()[0]\n",
        "orbital_radiuses = []\n",
        "orbital_periods = []\n",
        "for planet_data in suitable_planets:\n",
        "  orbital_radiuses.append(planet_data[8])\n",
        "  orbital_periods.append(planet_data[9])\n",
        "fig = px.scatter(x=orbital_radiuses,y=orbital_periods)\n",
        "#fig.show()\n",
        "goldilock_planets = list(suitable_planets) #We will leave suitable planet list as it is\n",
        "\n",
        "temp_goldilock_planets = list(suitable_planets) \n",
        "for planet_data in temp_goldilock_planets:\n",
        "  if planet_data[8] < 0.38 or planet_data[8] > 2:\n",
        "    goldilock_planets.remove(planet_data)\n",
        "\n",
        "#print(len(suitable_planets))\n",
        "#print(len(goldilock_planets))\n",
        "\n",
        "planet_speeds = []\n",
        "for planet_data in suitable_planets:\n",
        "  distance = 2 * 3.14 * (planet_data[8] * 1.496e+9)\n",
        "  time = planet_data[9] * 86400\n",
        "  speed = distance / time\n",
        "  planet_speeds.append(speed)\n",
        "\n",
        "speed_supporting_planets = list(suitable_planets) #We will leave suitable planet list as it is\n",
        "\n",
        "temp_speed_supporting_planets = list(suitable_planets)\n",
        "for index, planet_data in enumerate(temp_speed_supporting_planets):\n",
        "  if planet_speeds[index] > 200:\n",
        "    speed_supporting_planets.remove(planet_data)\n",
        "\n",
        "print(len(speed_supporting_planets))\n"
      ],
      "metadata": {
        "colab": {
          "base_uri": "https://localhost:8080/",
          "height": 235
        },
        "id": "E9tfEB4I4d2u",
        "outputId": "1d0d2391-310a-4b85-de7a-65b8d0775518"
      },
      "execution_count": 7,
      "outputs": [
        {
          "output_type": "error",
          "ename": "TypeError",
          "evalue": "ignored",
          "traceback": [
            "\u001b[0;31m---------------------------------------------------------------------------\u001b[0m",
            "\u001b[0;31mTypeError\u001b[0m                                 Traceback (most recent call last)",
            "\u001b[0;32m<ipython-input-7-38b6b7433a01>\u001b[0m in \u001b[0;36m<module>\u001b[0;34m()\u001b[0m\n\u001b[1;32m    162\u001b[0m \u001b[0mtemp_goldilock_planets\u001b[0m \u001b[0;34m=\u001b[0m \u001b[0mlist\u001b[0m\u001b[0;34m(\u001b[0m\u001b[0msuitable_planets\u001b[0m\u001b[0;34m)\u001b[0m\u001b[0;34m\u001b[0m\u001b[0;34m\u001b[0m\u001b[0m\n\u001b[1;32m    163\u001b[0m \u001b[0;32mfor\u001b[0m \u001b[0mplanet_data\u001b[0m \u001b[0;32min\u001b[0m \u001b[0mtemp_goldilock_planets\u001b[0m\u001b[0;34m:\u001b[0m\u001b[0;34m\u001b[0m\u001b[0;34m\u001b[0m\u001b[0m\n\u001b[0;32m--> 164\u001b[0;31m   \u001b[0;32mif\u001b[0m \u001b[0mplanet_data\u001b[0m\u001b[0;34m[\u001b[0m\u001b[0;36m8\u001b[0m\u001b[0;34m]\u001b[0m \u001b[0;34m<\u001b[0m \u001b[0;36m0.38\u001b[0m \u001b[0;32mor\u001b[0m \u001b[0mplanet_data\u001b[0m\u001b[0;34m[\u001b[0m\u001b[0;36m8\u001b[0m\u001b[0;34m]\u001b[0m \u001b[0;34m>\u001b[0m \u001b[0;36m2\u001b[0m\u001b[0;34m:\u001b[0m\u001b[0;34m\u001b[0m\u001b[0;34m\u001b[0m\u001b[0m\n\u001b[0m\u001b[1;32m    165\u001b[0m     \u001b[0mgoldilock_planets\u001b[0m\u001b[0;34m.\u001b[0m\u001b[0mremove\u001b[0m\u001b[0;34m(\u001b[0m\u001b[0mplanet_data\u001b[0m\u001b[0;34m)\u001b[0m\u001b[0;34m\u001b[0m\u001b[0;34m\u001b[0m\u001b[0m\n\u001b[1;32m    166\u001b[0m \u001b[0;34m\u001b[0m\u001b[0m\n",
            "\u001b[0;31mTypeError\u001b[0m: '<' not supported between instances of 'str' and 'float'"
          ]
        }
      ]
    }
  ]
}